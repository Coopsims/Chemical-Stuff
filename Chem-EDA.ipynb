{
 "cells": [
  {
   "cell_type": "code",
   "id": "initial_id",
   "metadata": {
    "collapsed": true,
    "ExecuteTime": {
     "end_time": "2024-04-20T01:47:07.373155Z",
     "start_time": "2024-04-20T01:47:07.354645Z"
    }
   },
   "source": [
    "# Imports\n",
    "import os\n",
    "import pandas as pd\n",
    "import numpy as np\n",
    "import matplotlib.pyplot as plt\n",
    "import multiprocessing\n",
    "from rdkit import Chem\n",
    "from rdkit.Chem import AllChem\n",
    "from sklearn.ensemble import RandomForestClassifier\n",
    "from sklearn.model_selection import train_test_split\n",
    "from sklearn.metrics import classification_report\n",
    "from concurrent.futures import ThreadPoolExecutor\n",
    "from tqdm import tqdm\n",
    "from concurrent.futures import ThreadPoolExecutor, as_completed\n",
    "import csv\n",
    "import mysql.connector\n",
    "from mysql.connector import Error\n",
    "import config"
   ],
   "outputs": [],
   "execution_count": 5
  },
  {
   "metadata": {
    "ExecuteTime": {
     "end_time": "2024-04-20T01:47:07.966390Z",
     "start_time": "2024-04-20T01:47:07.960390Z"
    }
   },
   "cell_type": "code",
   "source": [
    "numCores = os.cpu_count()\n",
    "numCores"
   ],
   "id": "389e2521e4f142f2",
   "outputs": [
    {
     "data": {
      "text/plain": [
       "16"
      ]
     },
     "execution_count": 6,
     "metadata": {},
     "output_type": "execute_result"
    }
   ],
   "execution_count": 6
  },
  {
   "metadata": {},
   "cell_type": "markdown",
   "source": "This code below is for adding most of the data to a MySQL database",
   "id": "fe28be39a5f5a3d2"
  },
  {
   "metadata": {
    "jupyter": {
     "is_executing": true
    },
    "ExecuteTime": {
     "start_time": "2024-04-20T01:47:09.915346Z"
    }
   },
   "cell_type": "code",
   "source": [
    "def get_max_id(cursor, binds_value):\n",
    "    try:\n",
    "        # Adjust the query to filter by 'binds' value\n",
    "        cursor.execute(\"SELECT MAX(id) FROM compounds WHERE binds = %s\", (binds_value,))\n",
    "        result = cursor.fetchone()\n",
    "        print(\"Max id for binds =\", binds_value, \"is:\", result[0])\n",
    "        return result[0] if result[0] is not None else 0\n",
    "    except Error as e:\n",
    "        print(\"Error fetching max id for binds =\", binds_value, \":\", e)\n",
    "        return 0\n",
    "    \n",
    "def load_csv_in_chunks(filepath, batch_size, start_id, desired_binds,cursor):\n",
    "    try:\n",
    "        # Open the CSV file\n",
    "        with open(filepath, mode='r', newline='', encoding='utf-8') as file:\n",
    "            reader = csv.reader(file)\n",
    "            headers = next(reader)  # Skip the header row\n",
    "            binds_index = headers.index(\"binds\")  # Find the index of the 'binds' column\n",
    "            batch = []\n",
    "            current_id = 0  # This will track the ID of each row processed\n",
    "\n",
    "            for row in tqdm(reader, desc=\"Processing rows\"):\n",
    "                current_id = int(row[0])  # Assuming the ID is in the first column\n",
    "                if current_id <= start_id:\n",
    "                    continue  # Skip rows until we reach the starting ID\n",
    "\n",
    "                if int(row[binds_index]) == desired_binds:  # Check if 'binds' is the desired value\n",
    "                    batch.append(row)\n",
    "                    if len(batch) >= batch_size:\n",
    "                        insert_batch(batch, headers,cursor)\n",
    "                        batch = []  # Reset the batch list after inserting\n",
    "\n",
    "            if batch:  # Insert any remaining rows in the final batch\n",
    "                insert_batch(batch, headers,cursor)\n",
    "\n",
    "    except Exception as e:  # Use Exception to catch all possible issues\n",
    "        print(f\"Error reading file at ID {current_id}: {e}\")\n",
    "\n",
    "def insert_batch(batch, headers, cursor):\n",
    "    try:\n",
    "        query = f\"INSERT INTO compounds ({', '.join(headers)}) VALUES (%s, %s, %s, %s, %s, %s, %s)\"\n",
    "        cursor.executemany(query, batch)\n",
    "        connection.commit()\n",
    "        print(f\"Batch inserted. Batch size: {len(batch)} Last ID: {batch[-1][0]}\")\n",
    "    except Error as e:\n",
    "        print(f\"Failed to insert batch into MySQL table. Error: {e}\")\n",
    "        connection.rollback()\n",
    "\n",
    "def connect_to_database():\n",
    "    \"\"\"Connect to the MySQL database using settings from the config module.\"\"\"\n",
    "    try:\n",
    "        print(\"Connecting to the MySQL database...\")\n",
    "        conn = mysql.connector.connect(**config.DATABASE_CONFIG)\n",
    "        if conn.is_connected():\n",
    "            print(\"Connection established.\")\n",
    "        else:\n",
    "            print(\"Connection failed.\")\n",
    "        return conn\n",
    "    except Error as e:\n",
    "        print(f\"The error '{e}' occurred\")\n",
    "        return None\n",
    "\n",
    "def close_connection(conn):\n",
    "    \"\"\"Close the database connection.\"\"\"\n",
    "    if conn.is_connected():\n",
    "        conn.close()\n",
    "        print(\"The connection is closed.\")\n",
    "\n",
    "# User input for binds value\n",
    "desired_binds = 1\n",
    "conn = connect_to_database()\n",
    "if conn is not None:\n",
    "    try:\n",
    "        cursor = conn.cursor()\n",
    "\n",
    "        # Determine the maximum ID already processed\n",
    "        max_id = get_max_id(cursor, desired_binds)\n",
    "        print(f\"Starting import from ID {max_id + 1} using {desired_binds} binds\")\n",
    "        \n",
    "        # Path to your CSV file and batch size\n",
    "        csv_file_path = 'C:/Users/funkb/DataspellProjects/Chemical-Stuff/leash-BELKA/train.csv'\n",
    "        batch_size = 100000  # Modify as needed\n",
    "        \n",
    "        # Start loading from the next ID\n",
    "        load_csv_in_chunks(csv_file_path, batch_size, max_id, desired_binds)\n",
    "    finally:\n",
    "        cursor.close()\n",
    "        close_connection(conn)\n"
   ],
   "id": "afc9e21ffcc8b8cd",
   "outputs": [
    {
     "name": "stdout",
     "output_type": "stream",
     "text": [
      "Connecting to the MySQL database...\n",
      "Connection established.\n"
     ]
    }
   ],
   "execution_count": null
  },
  {
   "metadata": {},
   "cell_type": "code",
   "source": [
    "def batch_smiles_to_fingerprints(smiles_list):\n",
    "    \"\"\"Convert a list of SMILES to fingerprints.\"\"\"\n",
    "    fingerprints = []\n",
    "    for smiles in tqdm(smiles_list, desc=\"Converting SMILES\", leave=False):\n",
    "        mol = Chem.MolFromSmiles(smiles)\n",
    "        if mol is not None:\n",
    "            fp = AllChem.GetMorganFingerprintAsBitVect(mol, radius=2, nBits=1024)\n",
    "            # Convert the fingerprint to a hex string for easy storage\n",
    "            fp_hex = fp.ToBitString().encode('utf-8').hex()\n",
    "            fingerprints.append(fp_hex)\n",
    "        else:\n",
    "            fingerprints.append(None)  # Use None for molecules that can't be parsed\n",
    "    return fingerprints"
   ],
   "id": "3fb7854849faf73b",
   "outputs": [],
   "execution_count": null
  },
  {
   "metadata": {},
   "cell_type": "code",
   "source": "",
   "id": "617c8d9d4aab7e2a",
   "outputs": [],
   "execution_count": null
  },
  {
   "metadata": {},
   "cell_type": "code",
   "source": "",
   "id": "34c78fd4bd0623a6",
   "outputs": [],
   "execution_count": null
  }
 ],
 "metadata": {
  "kernelspec": {
   "display_name": "Python 3",
   "language": "python",
   "name": "python3"
  },
  "language_info": {
   "codemirror_mode": {
    "name": "ipython",
    "version": 2
   },
   "file_extension": ".py",
   "mimetype": "text/x-python",
   "name": "python",
   "nbconvert_exporter": "python",
   "pygments_lexer": "ipython2",
   "version": "2.7.6"
  }
 },
 "nbformat": 4,
 "nbformat_minor": 5
}
